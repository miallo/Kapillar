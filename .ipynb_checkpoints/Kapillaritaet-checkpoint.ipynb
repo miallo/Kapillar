{
 "metadata": {
  "name": "",
  "signature": "sha256:97ee38a4683ac59551e3a629ff52bbae4eb7ae2fa26b23f10da9d5283a68307c"
 },
 "nbformat": 3,
 "nbformat_minor": 0,
 "worksheets": [
  {
   "cells": [
    {
     "cell_type": "code",
     "collapsed": false,
     "input": [
      "import math\n",
      "import uncertainties\n",
      "import maabara as ma\n",
      "from numpy import array"
     ],
     "language": "python",
     "metadata": {},
     "outputs": [],
     "prompt_number": 1
    },
    {
     "cell_type": "code",
     "collapsed": false,
     "input": [
      "blau=[0.001223,0.000014] #m\n",
      "gruen=[0.001811,0.000011] #m\n",
      "braun=[0.000876,0.000018] #m\n",
      "kw=[[1,[1.45,1.4,1.5]],\\\n",
      "    [2,[2.38,2.3,2.3]],\\\n",
      "    [3,[3.3,3.2,3.2]]]   #gr\u00fcn, blau, braun  #cm\n",
      "ka=[[1,[0.9,0.8,0.85]],\\\n",
      "    [2,[1.4,1.4,1.35]],\\\n",
      "    [3,[2.0,2.05,1.9]]]  #gr\u00fcn, blau, braun  #cm\n",
      "km=[[1,[0.55,0.5,0.5]],\\\n",
      "    [2,[0.85,1.0,1.1]],\\\n",
      "    [3,[1.4,1.3,1.3]]]   #gr\u00fcn, blau, braun  #cm\n",
      "k=[kw,ka,km]\n",
      "droehre=0.025 #m Durchmesser der R\u00f6hre\n",
      "markenstrecke=5.1 #cm 45-50 Striche\n",
      "for i in range(len(k)):\n",
      "    for j in range(0,3):\n",
      "        x = ma.data.student_t(k[i][j][1])\n",
      "        #print x\n",
      "        #print ma.uncertainty(k[i][j][1])\n",
      "        #print uncertainties.ufloat(ma.data.student_t(k[i][j][1]))\n",
      "dichte=[997,1088,837]\n",
      "kapillar=[gruen, blau, braun]\n",
      "sigmares=[]\n",
      "for i in range(len(k)):\n",
      "    sigmares.append([])\n",
      "    for j in range(len(k[i])):\n",
      "        sigma=ma.uncertainty.Sheet()\n",
      "        sigma.eq('h*rho*r*g/2', '\\\\sigma')\n",
      "        sigma.v('h', ma.data.student_t(k[i][j][1])[0]/100,ma.data.student_t(k[i][j][1])[1]/100)\n",
      "        sigma.v('rho', dichte[i], 0)\n",
      "        sigma.v('g', '9.81')\n",
      "        sigma.v('r', kapillar[j][0]/2, kapillar[j][1]/2)\n",
      "        #sigma.print_result()\n",
      "        temp=sigma.get_result()\n",
      "        sigmares[i].append([temp[0],temp[1]])\n",
      "        #print \"$\",str(uncertainties.ufloat(sigma.get_result())).replace('+/-',' \\pm '),\"$\"\n",
      "    print \"$\",str(uncertainties.ufloat(ma.data.weighted_average(sigmares[i]))).replace('+/-',' \\pm '),\"$\""
     ],
     "language": "python",
     "metadata": {},
     "outputs": [
      {
       "output_type": "stream",
       "stream": "stdout",
       "text": [
        "$ "
       ]
      },
      {
       "output_type": "stream",
       "stream": "stdout",
       "text": [
        "0.0681 \\pm 0.0009 $\n",
        "$"
       ]
      },
      {
       "output_type": "stream",
       "stream": "stdout",
       "text": [
        " 0.0448 \\pm 0.0007 $\n",
        "$"
       ]
      },
      {
       "output_type": "stream",
       "stream": "stdout",
       "text": [
        " 0.0215 \\pm 0.0006 $\n"
       ]
      },
      {
       "output_type": "stream",
       "stream": "stderr",
       "text": [
        "-c:32: UserWarning: Obsolete: either use ufloat(nominal_value, std_dev), ufloat(nominal_value, std_dev, tag), or the ufloat_fromstr() function, for string representations. Code can be automatically updated with python -m uncertainties.1to2 -w ProgramDirectory.\n"
       ]
      }
     ],
     "prompt_number": 2
    },
    {
     "cell_type": "code",
     "collapsed": false,
     "input": [
      "kapillarlaenge=[[25.7,0.1],[25.5,0.1],[26,0.1]]\n",
      "vol=ma.uncertainty.Sheet('pi*(0.5*dzyl)**2*lzyl')\n",
      "vol.v('dzyl',0.025,0.001)\n",
      "vol.v('lzyl',0.051,0.001)\n",
      "hoehe=ma.uncertainty.Sheet('47.5*strzyl')\n",
      "hoehe.v('strzyl', 0.051/5,0.001/5)\n",
      "hoehetemp=hoehe.get_result()\n",
      "voltemp=vol.get_result()\n",
      "for i in range(len(kapillar)):\n",
      "    eta=ma.uncertainty.Sheet('pi*deltap*r**4/(8*V*l)', '\\\\eta')\n",
      "    eta.v('deltap', 1, 0.1, tex='\\\\Delta~p')\n",
      "    eta.v('r', kapillar[i][0],kapillar[i][1])\n",
      "    eta.v('V', voltemp[0],voltemp[1], tex='\\\\dot{V}')\n",
      "    eta.v('l', kapillarlaenge[i][0],kapillarlaenge[i][1])\n",
      "    #eta.print_result()\n",
      "    temp=eta.get_result()\n",
      "    print temp"
     ],
     "language": "python",
     "metadata": {},
     "outputs": [
      {
       "output_type": "stream",
       "stream": "stdout",
       "text": [
        "(6.5653893875567415e-09, 8.657830016868678e-10)\n",
        "(1.3762123745885017e-09, 1.8918031564404623e-10)"
       ]
      },
      {
       "output_type": "stream",
       "stream": "stdout",
       "text": [
        "\n",
        "(3.5527355980443506e-10, 5.452581054569936e-11)"
       ]
      },
      {
       "output_type": "stream",
       "stream": "stdout",
       "text": [
        "\n"
       ]
      }
     ],
     "prompt_number": 4
    },
    {
     "cell_type": "heading",
     "level": 3,
     "metadata": {},
     "source": [
      "Teil B"
     ]
    },
    {
     "cell_type": "code",
     "collapsed": false,
     "input": [
      "eta2=ma.uncertainty.Sheet()\n",
      "eta2.eq(\"-rho*g*r^4/(8*kappa*l*R^2)\",\"eta\")\n",
      "eta2.v('rho',dichte[0])\n",
      "eta2.v('g',9.81)\n",
      "eta2.v('r',kapillar[2][0]/2,kapillar[2][1]/2)\n",
      "eta2.v('kappa',-0.00184366,4.714e-05 )#aus Gnuplot\n",
      "eta2.v('l',kapillarlaenge[2][0],kapillarlaenge[2][1])\n",
      "eta2.v('R',0.025/2,0.001/2)\n",
      "eta2.p()#Faktor 10 daneben, warum??? # Durchmesser vom Kapillar, statt Radius"
     ],
     "language": "python",
     "metadata": {},
     "outputs": [
      {
       "latex": [
        "$$eta=- \\frac{g \\cdot r^{4} \\cdot \\rho}{8 \\cdot R^{2} \\cdot \\kappa \\cdot l}$$"
       ],
       "metadata": {},
       "output_type": "display_data",
       "text": [
        "<IPython.core.display.Math at 0x1144c1710>"
       ]
      },
      {
       "output_type": "stream",
       "stream": "stdout",
       "text": [
        "eta=- \\frac{g \\cdot r^{4} \\cdot \\rho}{8 \\cdot R^{2} \\cdot \\kappa \\cdot l}\n",
        "\n"
       ]
      },
      {
       "latex": [
        "$$eta=\\left(6.0 \\pm 0.7\\right) \\times 10^{-6}$$"
       ],
       "metadata": {},
       "output_type": "display_data",
       "text": [
        "<IPython.core.display.Math at 0x1144c1fd0>"
       ]
      },
      {
       "output_type": "stream",
       "stream": "stdout",
       "text": [
        "eta=\\left(6.0 \\pm 0.7\\right) \\times 10^{-6}\n",
        "\n"
       ]
      },
      {
       "latex": [
        "$$\\sigma_{eta}=\\frac{g \\cdot r^{3} \\cdot \\rho}{8 \\cdot R^{3} \\cdot \\kappa^{2} \\cdot l^{2}} \\cdot \\sqrt{16 \\cdot R^{2} \\cdot \\kappa^{2} \\cdot l^{2} \\cdot \\sigma_{r}^{2} + R^{2} \\cdot \\kappa^{2} \\cdot r^{2} \\cdot \\sigma_{l}^{2} + R^{2} \\cdot l^{2} \\cdot r^{2} \\cdot \\sigma_{\\kappa}^{2} + 4 \\cdot \\kappa^{2} \\cdot l^{2} \\cdot r^{2} \\cdot \\sigma_{R}^{2}}$$"
       ],
       "metadata": {},
       "output_type": "display_data",
       "text": [
        "<IPython.core.display.Math at 0x1144c1b50>"
       ]
      },
      {
       "output_type": "stream",
       "stream": "stdout",
       "text": [
        "\\sigma_{eta}=\\frac{g \\cdot r^{3} \\cdot \\rho}{8 \\cdot R^{3} \\cdot \\kappa^{2} \\cdot l^{2}} \\cdot \\sqrt{16 \\cdot R^{2} \\cdot \\kappa^{2} \\cdot l^{2} \\cdot \\sigma_{r}^{2} + R^{2} \\cdot \\kappa^{2} \\cdot r^{2} \\cdot \\sigma_{l}^{2} + R^{2} \\cdot l^{2} \\cdot r^{2} \\cdot \\sigma_{\\kappa}^{2} + 4 \\cdot \\kappa^{2} \\cdot l^{2} \\cdot r^{2} \\cdot \\sigma_{R}^{2}}\n",
        "\n"
       ]
      },
      {
       "metadata": {},
       "output_type": "pyout",
       "prompt_number": 33,
       "text": [
        "6.007536434377965e-06+/-7.063401793315075e-07"
       ]
      }
     ],
     "prompt_number": 33
    },
    {
     "cell_type": "code",
     "collapsed": false,
     "input": [],
     "language": "python",
     "metadata": {},
     "outputs": []
    }
   ],
   "metadata": {}
  }
 ]
}