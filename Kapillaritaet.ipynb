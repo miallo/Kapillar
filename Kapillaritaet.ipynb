{
 "metadata": {
  "name": "",
  "signature": "sha256:931ff60daefe923694bf9cd589e5eddd49b4f1d9fb832deb6a0dff8aba3fe3b6"
 },
 "nbformat": 3,
 "nbformat_minor": 0,
 "worksheets": [
  {
   "cells": [
    {
     "cell_type": "code",
     "collapsed": true,
     "input": [
      "import math\n",
      "import uncertainties\n",
      "import maabara as ma\n",
      "from numpy import array"
     ],
     "language": "python",
     "metadata": {},
     "outputs": [],
     "prompt_number": 4
    },
    {
     "cell_type": "code",
     "collapsed": true,
     "input": [
      "blau=[0.001223,0.000014] #m\n",
      "gruen=[0.001811,0.000011] #m\n",
      "braun=[0.000876,0.000018] #m\n",
      "kw=[[1,[1.45,1.4,1.5]],\\\n",
      "    [2,[2.38,2.3,2.3]],\\\n",
      "    [3,[3.3,3.2,3.2]]]   #gr\u00fcn, blau, braun  #cm\n",
      "ka=[[1,[0.9,0.8,0.85]],\\\n",
      "    [2,[1.4,1.4,1.35]],\\\n",
      "    [3,[2.0,2.05,1.9]]]  #gr\u00fcn, blau, braun  #cm\n",
      "km=[[1,[0.55,0.5,0.5]],\\\n",
      "    [2,[0.85,1.0,1.1]],\\\n",
      "    [3,[1.4,1.3,1.3]]]   #gr\u00fcn, blau, braun  #cm\n",
      "k=[kw,ka,km]\n",
      "droehre=0.025 #m Durchmesser der R\u00f6hre\n",
      "markenstrecke=5.1 #cm 45-50 Striche\n",
      "for i in range(len(k)):\n",
      "    for j in range(0,3):\n",
      "        x = ma.data.student_t(k[i][j][1])\n",
      "        #print x\n",
      "        #print ma.uncertainty(k[i][j][1])\n",
      "        #print uncertainties.ufloat(ma.data.student_t(k[i][j][1]))\n",
      "        if k[i][j][0]==1:\n",
      "            if i==0:\n",
      "                oberflspannung=0.5*gruen[0]*ma.data.student_t(k[i][j][1])[0]*997*9.81\n",
      "                print oberflspannung\n",
      "            if i==1:\n",
      "                oberflspannung=0.5*gruen[0]*ma.data.student_t(k[i][j][1])[0]*1088*9.81\n",
      "                print oberflspannung\n",
      "            if i==2:\n",
      "                oberflspannung=0.5*gruen[0]*ma.data.student_t(k[i][j][1])[0]*837*9.81\n",
      "                print oberflspannung\n",
      "        if k[i][j][0]==2:\n",
      "            if i==0:\n",
      "                oberflspannung=0.5*blau[0]*ma.data.student_t(k[i][j][1])[0]*997*9.81\n",
      "                print oberflspannung\n",
      "            if i==1:\n",
      "                oberflspannung=0.5*blau[0]*ma.data.student_t(k[i][j][1])[0]*1088*9.81\n",
      "                print oberflspannung\n",
      "            if i==2:\n",
      "                oberflspannung=0.5*blau[0]*ma.data.student_t(k[i][j][1])[0]*837*9.81\n",
      "                print oberflspannung\n",
      "        if k[i][j][0]==3:\n",
      "            if i==0:\n",
      "                oberflspannung=0.5*braun[0]*ma.data.student_t(k[i][j][1])[0]*997*9.81\n",
      "                print oberflspannung\n",
      "            if i==1:\n",
      "                oberflspannung=0.5*braun[0]*ma.data.student_t(k[i][j][1])[0]*1088*9.81\n",
      "                print oberflspannung\n",
      "            if i==2:\n",
      "                oberflspannung=0.5*braun[0]*ma.data.student_t(k[i][j][1])[0]*837*9.81\n",
      "                print oberflspannung\n",
      "        "
     ],
     "language": "python",
     "metadata": {},
     "outputs": [
      {
       "output_type": "stream",
       "stream": "stdout",
       "text": [
        "12.8416438957\n",
        "13.9153711713\n",
        "13.851243234\n",
        "8.214956784\n",
        "9.028616496\n",
        "9.271878336\n",
        "3.84143388975\n",
        "4.93732468575\n",
        "4.79520648\n"
       ]
      }
     ],
     "prompt_number": 11
    },
    {
     "cell_type": "code",
     "collapsed": true,
     "input": [],
     "language": "python",
     "metadata": {},
     "outputs": []
    }
   ],
   "metadata": {}
  }
 ]
}