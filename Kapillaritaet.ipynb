{
 "metadata": {
  "name": "",
  "signature": "sha256:9cec20f219bf534fcb8b9206045fd1e15593e40b6f297f7c2cb9f928b6b5a81a"
 },
 "nbformat": 3,
 "nbformat_minor": 0,
 "worksheets": [
  {
   "cells": [
    {
     "cell_type": "code",
     "collapsed": false,
     "input": [
      "import math\n",
      "import uncertainties\n",
      "import maabara as ma\n",
      "from numpy import array"
     ],
     "language": "python",
     "metadata": {},
     "outputs": [],
     "prompt_number": 9
    },
    {
     "cell_type": "code",
     "collapsed": false,
     "input": [
      "blau=[0.001223,0.000014] #m\n",
      "gruen=[0.001811,0.000011] #m\n",
      "braun=[0.000876,0.000018] #m\n",
      "kw=[[1,[1.45,1.4,1.5]],\\\n",
      "    [2,[2.38,2.3,2.3]],\\\n",
      "    [3,[3.3,3.2,3.2]]]   #gr\u00fcn, blau, braun  #cm\n",
      "ka=[[1,[0.9,0.8,0.85]],\\\n",
      "    [2,[1.4,1.4,1.35]],\\\n",
      "    [3,[2.0,2.05,1.9]]]  #gr\u00fcn, blau, braun  #cm\n",
      "km=[[1,[0.55,0.5,0.5]],\\\n",
      "    [2,[0.85,1.0,1.1]],\\\n",
      "    [3,[1.4,1.3,1.3]]]   #gr\u00fcn, blau, braun  #cm\n",
      "k=[kw,ka,km]\n",
      "droehre=0.025 #m Durchmesser der R\u00f6hre\n",
      "markenstrecke=5.1 #cm 45-50 Striche\n",
      "for i in range(len(k)):\n",
      "    for j in range(0,3):\n",
      "        x = ma.data.student_t(k[i][j][1])\n",
      "        #print x\n",
      "        #print ma.uncertainty(k[i][j][1])\n",
      "        #print uncertainties.ufloat(ma.data.student_t(k[i][j][1]))\n",
      "dichte=[997,1088,837]\n",
      "kapillar=[gruen, blau, braun]\n",
      "sigmares=[]\n",
      "for i in range(len(k)):\n",
      "    sigmares.append([])\n",
      "    for j in range(len(k[i])):\n",
      "        sigma=ma.uncertainty.Sheet()\n",
      "        sigma.eq('h*rho*r*g/2', '\\\\sigma')\n",
      "        sigma.v('h', ma.data.student_t(k[i][j][1])[0]/100,ma.data.student_t(k[i][j][1])[1]/100)\n",
      "        sigma.v('rho', dichte[i], 0)\n",
      "        sigma.v('g', '9.81')\n",
      "        sigma.v('r', kapillar[j][0]/2, kapillar[j][1]/2)\n",
      "        #sigma.print_result()\n",
      "        temp=sigma.get_result()\n",
      "        sigmares[i].append([temp[0],temp[1]])\n",
      "        #print \"$\",str(uncertainties.ufloat(sigma.get_result())).replace('+/-',' \\pm '),\"$\"\n",
      "    print \"$\",str(uncertainties.ufloat(ma.data.weighted_average(sigmares[i]))).replace('+/-',' \\pm '),\"$\""
     ],
     "language": "python",
     "metadata": {},
     "outputs": [
      {
       "output_type": "stream",
       "stream": "stdout",
       "text": [
        "$ "
       ]
      },
      {
       "output_type": "stream",
       "stream": "stdout",
       "text": [
        "0.0681 \\pm 0.0009 $\n",
        "$"
       ]
      },
      {
       "output_type": "stream",
       "stream": "stdout",
       "text": [
        " 0.0448 \\pm 0.0007 $\n",
        "$"
       ]
      },
      {
       "output_type": "stream",
       "stream": "stdout",
       "text": [
        " 0.0215 \\pm 0.0006 $\n"
       ]
      }
     ],
     "prompt_number": 10
    },
    {
     "cell_type": "heading",
     "level": 3,
     "metadata": {},
     "source": [
      "Visko Teil B1"
     ]
    },
    {
     "cell_type": "code",
     "collapsed": false,
     "input": [
      "kapillarlaenge=[[0.257,0.001],[0.255,0.001],[0.26,0.001]]#m\n",
      "dt=[[5.54,0.5],[0,0],[65.26,0.5]]\n",
      "vol=ma.uncertainty.Sheet('pi*(0.5*dzyl)**2*lzyl')\n",
      "vol.v('dzyl',0.025,0.001)\n",
      "vol.v('lzyl',0.051,0.001)\n",
      "voltemp=vol.get_result()\n",
      "\n",
      "hoehe=ma.uncertainty.Sheet('47.5*strzyl')\n",
      "hoehe.v('strzyl', 0.051/5,0.001/5)\n",
      "hoehetemp=hoehe.get_result()\n",
      "for i in range(len(kapillar)):\n",
      "    eta=ma.uncertainty.Sheet('pi*deltap*dt*r**4/(8*V*l)', '\\\\eta')\n",
      "    eta.v('deltap', 4750, 100, tex='\\\\Delta~p')\n",
      "    eta.v('dt',dt[i][0],dt[i][1])\n",
      "    eta.v('r', kapillar[i][0]/2,kapillar[i][1]/2)\n",
      "    eta.v('V', voltemp[0],voltemp[1], tex='\\\\dot{V}')\n",
      "    eta.v('l', kapillarlaenge[i][0],kapillarlaenge[i][1])\n",
      "    #eta.print_result()\n",
      "    temp=eta.get_result()\n",
      "    print temp"
     ],
     "language": "python",
     "metadata": {},
     "outputs": [
      {
       "output_type": "stream",
       "stream": "stdout",
       "text": [
        "(0.0010798013858347227, 0.0001364941837313398)\n",
        "(0.0, 0.0)"
       ]
      },
      {
       "output_type": "stream",
       "stream": "stdout",
       "text": [
        "\n",
        "(0.0006883092152248612, 8.160649206473313e-05)"
       ]
      },
      {
       "output_type": "stream",
       "stream": "stdout",
       "text": [
        "\n"
       ]
      }
     ],
     "prompt_number": 11
    },
    {
     "cell_type": "heading",
     "level": 3,
     "metadata": {},
     "source": [
      "Teil B"
     ]
    },
    {
     "cell_type": "code",
     "collapsed": false,
     "input": [
      "eta2=ma.uncertainty.Sheet()\n",
      "eta2.eq(\"-rho*g*r^4/(8*kappa*l*R^2)\",\"\\\\eta\")\n",
      "eta2.v('rho',dichte[0])\n",
      "eta2.v('g',9.81)\n",
      "eta2.v('r',kapillar[2][0]/2,kapillar[2][1]/2)\n",
      "eta2.v('kappa',-0.00184366,4.714e-05 )#aus Gnuplot\n",
      "eta2.v('l',kapillarlaenge[2][0],kapillarlaenge[2][1])\n",
      "eta2.v('R',0.025/2,0.001/2)\n",
      "eta2.p()#Faktor 10 daneben # Durchmesser vom Kapillar #Kapillarl\u00e4nge in cm #jetzt doppelt so gut, wie Kevin :D"
     ],
     "language": "python",
     "metadata": {},
     "outputs": [
      {
       "latex": [
        "$$\\eta=- \\frac{g \\cdot r^{4} \\cdot \\rho}{8 \\cdot R^{2} \\cdot \\kappa \\cdot l}$$"
       ],
       "metadata": {},
       "output_type": "display_data",
       "text": [
        "<IPython.core.display.Math at 0xc256f70>"
       ]
      },
      {
       "output_type": "stream",
       "stream": "stdout",
       "text": [
        "\\eta=- \\frac{g \\cdot r^{4} \\cdot \\rho}{8 \\cdot R^{2} \\cdot \\kappa \\cdot l}\n",
        "\n"
       ]
      },
      {
       "latex": [
        "$$\\eta=0.00060 \\pm 0.00007$$"
       ],
       "metadata": {},
       "output_type": "display_data",
       "text": [
        "<IPython.core.display.Math at 0xc4bbdb0>"
       ]
      },
      {
       "output_type": "stream",
       "stream": "stdout",
       "text": [
        "\\eta=0.00060 \\pm 0.00007\n",
        "\n"
       ]
      },
      {
       "latex": [
        "$$\\sigma_{\\eta}=\\frac{g \\cdot r^{3} \\cdot \\rho}{8 \\cdot R^{3} \\cdot \\kappa^{2} \\cdot l^{2}} \\cdot \\sqrt{16 \\cdot R^{2} \\cdot \\kappa^{2} \\cdot l^{2} \\cdot \\sigma_{r}^{2} + R^{2} \\cdot \\kappa^{2} \\cdot r^{2} \\cdot \\sigma_{l}^{2} + R^{2} \\cdot l^{2} \\cdot r^{2} \\cdot \\sigma_{\\kappa}^{2} + 4 \\cdot \\kappa^{2} \\cdot l^{2} \\cdot r^{2} \\cdot \\sigma_{R}^{2}}$$"
       ],
       "metadata": {},
       "output_type": "display_data",
       "text": [
        "<IPython.core.display.Math at 0xc54deb0>"
       ]
      },
      {
       "output_type": "stream",
       "stream": "stdout",
       "text": [
        "\\sigma_{\\eta}=\\frac{g \\cdot r^{3} \\cdot \\rho}{8 \\cdot R^{3} \\cdot \\kappa^{2} \\cdot l^{2}} \\cdot \\sqrt{16 \\cdot R^{2} \\cdot \\kappa^{2} \\cdot l^{2} \\cdot \\sigma_{r}^{2} + R^{2} \\cdot \\kappa^{2} \\cdot r^{2} \\cdot \\sigma_{l}^{2} + R^{2} \\cdot l^{2} \\cdot r^{2} \\cdot \\sigma_{\\kappa}^{2} + 4 \\cdot \\kappa^{2} \\cdot l^{2} \\cdot r^{2} \\cdot \\sigma_{R}^{2}}\n",
        "\n"
       ]
      },
      {
       "metadata": {},
       "output_type": "pyout",
       "prompt_number": 12,
       "text": [
        "0.0006007536434377964+/-7.063401793315073e-05"
       ]
      }
     ],
     "prompt_number": 12
    },
    {
     "cell_type": "heading",
     "level": 3,
     "metadata": {},
     "source": [
      "Teil B2"
     ]
    },
    {
     "cell_type": "code",
     "collapsed": false,
     "input": [
      "kapillarlaenge=[[0.257,0.001],[0.255,0.001],[0.26,0.001]]#m\n",
      "vol=ma.uncertainty.Sheet('pi*(0.5*dzyl)**2*lzyl')\n",
      "vol.v('dzyl',0.025,0.001)\n",
      "vol.v('lzyl',0.051,0.001)\n",
      "voltemp=vol.get_result()\n",
      "zeit=[-11.66,0,12.57,25.41,39.02,52.86,67.01,81.59,96.22,112.00,127.33]\n",
      "etares=[]\n",
      "for i in range(len(zeit)-1):\n",
      "    eta3=ma.uncertainty.Sheet('pi*deltapr*dt*r**4/(8*V*l)', '\\\\eta')\n",
      "    eta3.v('deltapr',(50-0.5*i)/100.*dichte[0]*9.81,0.002*dichte[0]*9.81,tex='\\Delta~p')\n",
      "    eta3.v('r', kapillar[2][0]/2.,kapillar[2][1]/2.)\n",
      "    eta3.v('V', voltemp[0]/5.,voltemp[1]/5., tex='V')\n",
      "    eta3.v('l', kapillarlaenge[2][0],kapillarlaenge[2][1])\n",
      "    eta3.v('dt', zeit[i+1]-zeit[i],0.2)\n",
      "    #eta3.p()\n",
      "    temp=eta3.get_result()\n",
      "    etares.append([temp[0],temp[1]])\n",
      "    print \"$\",str(uncertainties.ufloat(temp)).replace('+/-',' \\pm '),\"$\"\n",
      "#ma.data.weighted_average(etares)\n",
      "#print \"$\",str(uncertainties.ufloat(ma.data.weighted_average(etares))).replace('+/-',' \\pm '),\"$\"\n",
      "            #Bitte Formel nochmal angucken, ist aber konsistent mit oben #Es kommen 2 Werte heraus mit nur halbem Wert???\n",
      "            #siehe Zeiten... Da sind die 67-74-81 sehr komisch und nur die H\u00e4lfte der sonstigen Werte\n",
      "            #ohne den 74er Wert kommen gute Ergebnisse heraus - kann es sein, dass wir da was falsches aufgeschrieben haben???\n",
      "            #herausgenommener Wert: 74.48,\n",
      "deltaz=[]\n",
      "for i in range(len(zeit)-1):\n",
      "    deltaz.append(zeit[i+1]-zeit[i])\n",
      "deltaz.append('\\\\gewMw')\n",
      "etares.append(ma.data.weighted_average(etares))\n",
      "tbl=ma.latex.Table()\n",
      "tbl.add_column(deltaz,'num($0)','Zeitunterschied [s]')\n",
      "tbl.add_column(etares, 'num($0,$1)','Viskosit\u00e4t [Pa s]')\n",
      "tbl.set_caption('Versuch 2b - Messung der Viskosit\u00e4t von Wasser')\n",
      "tbl.set_label('tbl:visko2b')\n",
      "tbl.set_placement('[!h]')\n",
      "print tbl.export('viskotbl.tex')"
     ],
     "language": "python",
     "metadata": {},
     "outputs": [
      {
       "output_type": "stream",
       "stream": "stdout",
       "text": [
        "$ 0.00063 \\pm 0.00007 $\n",
        "$"
       ]
      },
      {
       "output_type": "stream",
       "stream": "stdout",
       "text": [
        " 0.00068 \\pm 0.00008 $\n",
        "$"
       ]
      },
      {
       "output_type": "stream",
       "stream": "stdout",
       "text": [
        " 0.00068 \\pm 0.00008 $\n",
        "$"
       ]
      },
      {
       "output_type": "stream",
       "stream": "stdout",
       "text": [
        " 0.00072 \\pm 0.00008 $\n",
        "$"
       ]
      },
      {
       "output_type": "stream",
       "stream": "stdout",
       "text": [
        " 0.00072 \\pm 0.00008 $\n",
        "$"
       ]
      },
      {
       "output_type": "stream",
       "stream": "stdout",
       "text": [
        " 0.00073 \\pm 0.00009 $\n",
        "$"
       ]
      },
      {
       "output_type": "stream",
       "stream": "stdout",
       "text": [
        " 0.00074 \\pm 0.00009 $\n",
        "$"
       ]
      },
      {
       "output_type": "stream",
       "stream": "stdout",
       "text": [
        " 0.00074 \\pm 0.00009 $\n",
        "$"
       ]
      },
      {
       "output_type": "stream",
       "stream": "stdout",
       "text": [
        " 0.00079 \\pm 0.00009 $\n",
        "$"
       ]
      },
      {
       "output_type": "stream",
       "stream": "stdout",
       "text": [
        " 0.00076 \\pm 0.00009 $\n",
        "\\input{viskotbl.tex}\n"
       ]
      }
     ],
     "prompt_number": 13
    },
    {
     "cell_type": "code",
     "collapsed": false,
     "input": [],
     "language": "python",
     "metadata": {},
     "outputs": [],
     "prompt_number": 13
    }
   ],
   "metadata": {}
  }
 ]
}