{
 "metadata": {
  "name": "",
  "signature": "sha256:54aaee0fb59111da1dff85fec8fe5aa31206ae8afc994608b90878733b6eb835"
 },
 "nbformat": 3,
 "nbformat_minor": 0,
 "worksheets": [
  {
   "cells": [
    {
     "cell_type": "code",
     "collapsed": false,
     "input": [
      "import math\n",
      "import uncertainties\n",
      "import maabara as ma\n",
      "from numpy import array"
     ],
     "language": "python",
     "metadata": {},
     "outputs": [],
     "prompt_number": 1
    },
    {
     "cell_type": "code",
     "collapsed": false,
     "input": [
      "blau=[0.001223,0.000014] #m\n",
      "gruen=[0.001811,0.000011] #m\n",
      "braun=[0.000876,0.000018] #m\n",
      "kw=[[1,[1.45,1.4,1.5]],\\\n",
      "    [2,[2.38,2.3,2.3]],\\\n",
      "    [3,[3.3,3.2,3.2]]]   #gr\u00fcn, blau, braun  #cm\n",
      "ka=[[1,[0.9,0.8,0.85]],\\\n",
      "    [2,[1.4,1.4,1.35]],\\\n",
      "    [3,[2.0,2.05,1.9]]]  #gr\u00fcn, blau, braun  #cm\n",
      "km=[[1,[0.55,0.5,0.5]],\\\n",
      "    [2,[0.85,1.0,1.1]],\\\n",
      "    [3,[1.4,1.3,1.3]]]   #gr\u00fcn, blau, braun  #cm\n",
      "k=[kw,ka,km]\n",
      "droehre=0.025 #m Durchmesser der R\u00f6hre\n",
      "markenstrecke=5.1 #cm 45-50 Striche\n",
      "for i in range(len(k)):\n",
      "    for j in range(0,3):\n",
      "        x = ma.data.student_t(k[i][j][1])\n",
      "        #print x\n",
      "        #print ma.uncertainty(k[i][j][1])\n",
      "        print uncertainties.ufloat(ma.data.student_t(k[i][j][1]))"
     ],
     "language": "python",
     "metadata": {},
     "outputs": [
      {
       "output_type": "stream",
       "stream": "stdout",
       "text": [
        "1.45+/-0.04\n",
        "2.327+/-0.035\n",
        "3.23+/-0.04\n",
        "0.85+/-0.04\n",
        "1.383+/-0.022\n",
        "1.98+/-0.06\n",
        "0.517+/-0.022\n",
        "0.98+/-0.10\n",
        "1.33+/-0.04\n"
       ]
      }
     ],
     "prompt_number": 59
    },
    {
     "cell_type": "code",
     "collapsed": false,
     "input": [],
     "language": "python",
     "metadata": {},
     "outputs": []
    }
   ],
   "metadata": {}
  }
 ]
}