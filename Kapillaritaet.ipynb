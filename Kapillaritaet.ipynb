{
 "metadata": {
  "name": "",
  "signature": "sha256:2bf9d48c7c98b5e840998650a718f76b6c81995e27a2b8533f9b2feffa1f54fd"
 },
 "nbformat": 3,
 "nbformat_minor": 0,
 "worksheets": [
  {
   "cells": [
    {
     "cell_type": "code",
     "collapsed": true,
     "input": [
      "import math\n",
      "import uncertainties\n",
      "import maabara as ma\n",
      "from numpy import array"
     ],
     "language": "python",
     "metadata": {},
     "outputs": [],
     "prompt_number": 1
    },
    {
     "cell_type": "code",
     "collapsed": true,
     "input": [
      "blau=[0.001223,0.000014] #m\n",
      "gruen=[0.001811,0.000011] #m\n",
      "braun=[0.000876,0.000018] #m\n",
      "kw=[[1,[1.45,1.4,1.5]],\\\n",
      "    [2,[2.38,2.3,2.3]],\\\n",
      "    [3,[3.3,3.2,3.2]]]   #gr\u00fcn, blau, braun  #cm\n",
      "ka=[[1,[0.9,0.8,0.85]],\\\n",
      "    [2,[1.4,1.4,1.35]],\\\n",
      "    [3,[2.0,2.05,1.9]]]  #gr\u00fcn, blau, braun  #cm\n",
      "km=[[1,[0.55,0.5,0.5]],\\\n",
      "    [2,[0.85,1.0,1.1]],\\\n",
      "    [3,[1.4,1.3,1.3]]]   #gr\u00fcn, blau, braun  #cm\n",
      "k=[kw,ka,km]\n",
      "droehre=0.025 #m Durchmesser der R\u00f6hre\n",
      "markenstrecke=5.1 #cm 45-50 Striche\n",
      "for i in range(len(k)):\n",
      "    for j in range(0,3):\n",
      "        x = ma.data.student_t(k[i][j][1])\n",
      "        #print x\n",
      "        #print ma.uncertainty(k[i][j][1])\n",
      "        #print uncertainties.ufloat(ma.data.student_t(k[i][j][1]))\n",
      "dichte=[997,1088,837]\n",
      "kapilar=[gruen, blau, braun]\n",
      "sigmares=[]\n",
      "for i in range(len(k)):\n",
      "    sigmares.append([])\n",
      "    for j in range(len(k[i])):\n",
      "        sigma=ma.uncertainty.Sheet()\n",
      "        sigma.eq('h*rho*r*g/4', 'sigma')\n",
      "        sigma.v('h', ma.data.student_t(k[i][j][1])[0]/100,ma.data.student_t(k[i][j][1])[1]/100)\n",
      "        sigma.v('rho', dichte[i], 0)\n",
      "        sigma.v('g', '9.81')\n",
      "        sigma.v('r', kapilar[j][0], kapilar[j][1])\n",
      "        temp=sigma.get_result()\n",
      "        sigmares[i].append([temp[0],temp[1]])\n",
      "        #print \"$\",str(uncertainties.ufloat(sigma.get_result())).replace('+/-',' \\pm '),\"$\"\n",
      "    print \"$\",str(uncertainties.ufloat(ma.data.weighted_average(sigmares[i]))).replace('+/-',' \\pm '),\"$\""
     ],
     "language": "python",
     "metadata": {},
     "outputs": [
      {
       "output_type": "stream",
       "stream": "stdout",
       "text": [
        "$ 0.0681 \\pm 0.0009 $\n",
        "$"
       ]
      },
      {
       "output_type": "stream",
       "stream": "stdout",
       "text": [
        " 0.0448 \\pm 0.0007 $\n",
        "$"
       ]
      },
      {
       "output_type": "stream",
       "stream": "stdout",
       "text": [
        " 0.0215 \\pm 0.0006 $\n"
       ]
      }
     ],
     "prompt_number": 40
    },
    {
     "cell_type": "code",
     "collapsed": true,
     "input": [],
     "language": "python",
     "metadata": {},
     "outputs": []
    }
   ],
   "metadata": {}
  }
 ]
}